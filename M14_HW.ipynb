{
 "cells": [
  {
   "cell_type": "markdown",
   "id": "bbea800c-241d-42b4-a744-ecaffe13959e",
   "metadata": {},
   "source": [
    "# Metadata\n",
    "\n",
    "```yaml\n",
    "Course:  DS 5100\n",
    "Module:  14 Python Packages\n",
    "Topic:   HW Package Booklover\n",
    "Author:  R.C. Alvarado\n",
    "Date:    11 July 2022\n",
    "```"
   ]
  },
  {
   "cell_type": "markdown",
   "id": "31c46810-4227-4657-8b67-29c43de618ea",
   "metadata": {},
   "source": [
    "# Student Metadata\n",
    "\n",
    "* Name: Nick Kalenichenko\n",
    "* NetID: nhk6up"
   ]
  },
  {
   "cell_type": "markdown",
   "id": "1baf08dc-35fe-44f1-bc26-7e1130ee993e",
   "metadata": {},
   "source": [
    "# Instructions\n",
    "\n",
    "Follow the recipe we used in class to package the code you wrote for `HW09` -- `booklover.py` and `booklover_test.py`.\n",
    "\n",
    "Here is the recipe:\n",
    "* Create a new git repo for your package.\n",
    "* Create and edit the required files and directories for your package and move the booklover modules there.\n",
    "* Stage, commit, and push all the files you've created.\n",
    "* Install your package with pip.\n",
    "* Outside of your package dir, write a script to test your method.\n",
    "\n",
    "Put this notebook in your repo. This will allow you to execute bash commands and capture the outpunt directly in the notebook.\n",
    "\n",
    "**TOTAL: 8 POINTS**"
   ]
  },
  {
   "cell_type": "markdown",
   "id": "6e39ba79-49ee-41e8-9e49-23d9d6bac2e0",
   "metadata": {
    "tags": []
   },
   "source": [
    "# Q1\n",
    "\n",
    "(5 points)\n",
    "\n",
    "Show the directory structure of your repo by running this command from the root of your repo:"
   ]
  },
  {
   "cell_type": "code",
   "execution_count": 14,
   "id": "8551b44e-e3f6-4441-961e-3f3267b9f18f",
   "metadata": {},
   "outputs": [
    {
     "name": "stdout",
     "output_type": "stream",
     "text": [
      "/Users/nickkalenichenko/Dropbox/Msds/DS5100/hw14---DS5100\n"
     ]
    }
   ],
   "source": [
    "!pwd"
   ]
  },
  {
   "cell_type": "code",
   "execution_count": 13,
   "id": "7e6c6607",
   "metadata": {},
   "outputs": [
    {
     "name": "stdout",
     "output_type": "stream",
     "text": [
      "total 64\n",
      "-rw-r--r--@ 1 nickkalenichenko  staff  11357 Jul 11 15:37 LICENSE\n",
      "-rw-r--r--@ 1 nickkalenichenko  staff   4396 Jul 11 16:13 M14_HW.ipynb\n",
      "-rw-r--r--@ 1 nickkalenichenko  staff     15 Jul 11 15:37 README.md\n",
      "drwxr-xr-x@ 8 nickkalenichenko  staff    256 Jul 11 16:06 \u001b[34mbooklover_package\u001b[m\u001b[m\n",
      "drwxr-xr-x@ 6 nickkalenichenko  staff    192 Jul 11 16:03 \u001b[34mbooklover_package.egg-info\u001b[m\u001b[m\n",
      "-rw-r--r--@ 1 nickkalenichenko  staff   3112 Jul  1 20:21 booklover_test.py\n",
      "-rw-r--r--@ 1 nickkalenichenko  staff    336 Jul 11 15:47 setup.py\n",
      "\n",
      "./booklover_package:\n",
      "total 32\n",
      "-rw-r--r--@ 1 nickkalenichenko  staff   31 Jul 11 15:45 __init__.py\n",
      "drwxr-xr-x@ 4 nickkalenichenko  staff  128 Jul 11 16:06 \u001b[34m__pycache__\u001b[m\u001b[m\n",
      "-rw-r--r--@ 1 nickkalenichenko  staff  938 Jul  1 20:19 booklover.py\n",
      "-rw-r--r--@ 1 nickkalenichenko  staff  709 Jul  1 20:22 booklover_results.txt\n",
      "-rw-r--r--@ 1 nickkalenichenko  staff    1 Jul 11 15:37 readme.md\n",
      "\n",
      "./booklover_package/__pycache__:\n",
      "total 16\n",
      "-rw-r--r--@ 1 nickkalenichenko  staff   214 Jul 11 16:06 __init__.cpython-39.pyc\n",
      "-rw-r--r--@ 1 nickkalenichenko  staff  1373 Jul 11 16:06 booklover.cpython-39.pyc\n",
      "\n",
      "./booklover_package.egg-info:\n",
      "total 32\n",
      "-rw-r--r--@ 1 nickkalenichenko  staff  287 Jul 11 16:03 PKG-INFO\n",
      "-rw-r--r--@ 1 nickkalenichenko  staff  251 Jul 11 16:03 SOURCES.txt\n",
      "-rw-r--r--@ 1 nickkalenichenko  staff    1 Jul 11 16:03 dependency_links.txt\n",
      "-rw-r--r--@ 1 nickkalenichenko  staff   18 Jul 11 16:03 top_level.txt\n"
     ]
    }
   ],
   "source": [
    "!ls -lR"
   ]
  },
  {
   "cell_type": "markdown",
   "id": "6b6f288b-05aa-441b-8c73-84b50b3b6844",
   "metadata": {},
   "source": [
    "# Q2\n",
    "\n",
    "(1 point)\n",
    "\n",
    "Put the URL of your GitHub repo here. Just paste it into a Markdown cell."
   ]
  },
  {
   "cell_type": "markdown",
   "id": "4d09d889-6104-4f20-b31c-2d8a72b17693",
   "metadata": {},
   "source": [
    "URL: https://github.com/nick-kalen/hw14---DS5100"
   ]
  },
  {
   "cell_type": "markdown",
   "id": "f989dcd1-b1d2-4eb9-8ef6-8ca2d8495260",
   "metadata": {
    "lines_to_next_cell": 0
   },
   "source": [
    "# Q3\n",
    "\n",
    "(1 point)\n",
    "\n",
    "Show the results of installing your package.\n",
    "\n",
    "```bash\n",
    "!pip install -e .\n",
    "```"
   ]
  },
  {
   "cell_type": "code",
   "execution_count": 15,
   "id": "222f650c-6487-4077-8d1a-1aeb0f8a4ae3",
   "metadata": {},
   "outputs": [
    {
     "name": "stdout",
     "output_type": "stream",
     "text": [
      "Obtaining file:///Users/nickkalenichenko/Dropbox/Msds/DS5100/hw14---DS5100\n",
      "Installing collected packages: booklover-package\n",
      "  Attempting uninstall: booklover-package\n",
      "    Found existing installation: booklover-package 0.1\n",
      "    Uninstalling booklover-package-0.1:\n",
      "      Successfully uninstalled booklover-package-0.1\n",
      "  Running setup.py develop for booklover-package\n",
      "Successfully installed booklover-package-0.1\n"
     ]
    }
   ],
   "source": [
    "!pip install -e ."
   ]
  },
  {
   "cell_type": "markdown",
   "id": "5b1a642e-74f0-43ff-97a3-9ddc7553978e",
   "metadata": {},
   "source": [
    "# Q4\n",
    "\n",
    "(1 point)\n",
    "\n",
    "Create a file outside your repo (one level up) to test your package.\n",
    "\n",
    "Import the package and run it. Specifically, create a BookLover object, add a book, and then print number books read.\n",
    "\n",
    "Show the output of running the file below, using a command like the following:\n",
    "\n",
    "```bash\n",
    "!python ../book_lover_demo.py\n",
    "```"
   ]
  },
  {
   "cell_type": "code",
   "execution_count": 20,
   "id": "5924fca8-6483-4f2b-a33f-6550d1726d6e",
   "metadata": {},
   "outputs": [
    {
     "name": "stdout",
     "output_type": "stream",
     "text": [
      "welcome to the module!\n",
      "/Users/nickkalenichenko/Dropbox/Msds/DS5100/hw14---DS5100/booklover_package/booklover.py:20: FutureWarning: elementwise comparison failed; returning scalar instead, but in the future will perform elementwise comparison\n",
      "  if (book_name in self.book_list.iloc[:,0].values):\n",
      "\n",
      "\n",
      " 1\n"
     ]
    }
   ],
   "source": [
    "!python3 ../book_obj_test.py"
   ]
  }
 ],
 "metadata": {
  "jupytext": {
   "cell_metadata_filter": "-all",
   "main_language": "bash",
   "notebook_metadata_filter": "-all"
  },
  "kernelspec": {
   "display_name": "Python 3 (ipykernel)",
   "language": "python",
   "name": "python3"
  },
  "language_info": {
   "codemirror_mode": {
    "name": "ipython",
    "version": 3
   },
   "file_extension": ".py",
   "mimetype": "text/x-python",
   "name": "python",
   "nbconvert_exporter": "python",
   "pygments_lexer": "ipython3",
   "version": "3.9.12"
  },
  "widgets": {
   "application/vnd.jupyter.widget-state+json": {
    "state": {},
    "version_major": 2,
    "version_minor": 0
   }
  }
 },
 "nbformat": 4,
 "nbformat_minor": 5
}
